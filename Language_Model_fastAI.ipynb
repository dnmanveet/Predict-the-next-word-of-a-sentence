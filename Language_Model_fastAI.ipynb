{
  "nbformat": 4,
  "nbformat_minor": 0,
  "metadata": {
    "colab": {
      "name": "Language_Model_fastAI.ipynb",
      "version": "0.3.2",
      "provenance": [],
      "collapsed_sections": [],
      "toc_visible": true
    },
    "kernelspec": {
      "name": "python3",
      "display_name": "Python 3"
    },
    "accelerator": "GPU"
  },
  "cells": [
    {
      "cell_type": "code",
      "metadata": {
        "id": "aYvEhO8W3UUZ",
        "colab_type": "code",
        "colab": {}
      },
      "source": [
        "%reload_ext autoreload\n",
        "%matplotlib inline\n",
        "%autoreload 2"
      ],
      "execution_count": 0,
      "outputs": []
    },
    {
      "cell_type": "code",
      "metadata": {
        "id": "qmY47ZXX37fe",
        "colab_type": "code",
        "colab": {}
      },
      "source": [
        "from fastai import *\n",
        "from fastai.text import *\n",
        "from fastai.vision import *"
      ],
      "execution_count": 0,
      "outputs": []
    },
    {
      "cell_type": "markdown",
      "metadata": {
        "id": "kiSc066k4QCw",
        "colab_type": "text"
      },
      "source": [
        "#Preparing the data\n"
      ]
    },
    {
      "cell_type": "code",
      "metadata": {
        "id": "E4O801s94OkZ",
        "colab_type": "code",
        "outputId": "7df7a50d-2e92-4f64-e4b8-6d41a5da1760",
        "colab": {
          "base_uri": "https://localhost:8080/",
          "height": 54
        }
      },
      "source": [
        "path = untar_data(URLs.IMDB_SAMPLE)\n",
        "path.ls()"
      ],
      "execution_count": 51,
      "outputs": [
        {
          "output_type": "execute_result",
          "data": {
            "text/plain": [
              "[PosixPath('/root/.fastai/data/imdb_sample/data_save.pkl'),\n",
              " PosixPath('/root/.fastai/data/imdb_sample/texts.csv')]"
            ]
          },
          "metadata": {
            "tags": []
          },
          "execution_count": 51
        }
      ]
    },
    {
      "cell_type": "code",
      "metadata": {
        "id": "d_h4VrKH5E0o",
        "colab_type": "code",
        "outputId": "a6d73bc5-132d-445f-c70e-9996a802e88d",
        "colab": {
          "base_uri": "https://localhost:8080/",
          "height": 198
        }
      },
      "source": [
        "df = pd.read_csv(path/'texts.csv')\n",
        "df.head()"
      ],
      "execution_count": 52,
      "outputs": [
        {
          "output_type": "execute_result",
          "data": {
            "text/html": [
              "<div>\n",
              "<style scoped>\n",
              "    .dataframe tbody tr th:only-of-type {\n",
              "        vertical-align: middle;\n",
              "    }\n",
              "\n",
              "    .dataframe tbody tr th {\n",
              "        vertical-align: top;\n",
              "    }\n",
              "\n",
              "    .dataframe thead th {\n",
              "        text-align: right;\n",
              "    }\n",
              "</style>\n",
              "<table border=\"1\" class=\"dataframe\">\n",
              "  <thead>\n",
              "    <tr style=\"text-align: right;\">\n",
              "      <th></th>\n",
              "      <th>label</th>\n",
              "      <th>text</th>\n",
              "      <th>is_valid</th>\n",
              "    </tr>\n",
              "  </thead>\n",
              "  <tbody>\n",
              "    <tr>\n",
              "      <th>0</th>\n",
              "      <td>negative</td>\n",
              "      <td>Un-bleeping-believable! Meg Ryan doesn't even ...</td>\n",
              "      <td>False</td>\n",
              "    </tr>\n",
              "    <tr>\n",
              "      <th>1</th>\n",
              "      <td>positive</td>\n",
              "      <td>This is a extremely well-made film. The acting...</td>\n",
              "      <td>False</td>\n",
              "    </tr>\n",
              "    <tr>\n",
              "      <th>2</th>\n",
              "      <td>negative</td>\n",
              "      <td>Every once in a long while a movie will come a...</td>\n",
              "      <td>False</td>\n",
              "    </tr>\n",
              "    <tr>\n",
              "      <th>3</th>\n",
              "      <td>positive</td>\n",
              "      <td>Name just says it all. I watched this movie wi...</td>\n",
              "      <td>False</td>\n",
              "    </tr>\n",
              "    <tr>\n",
              "      <th>4</th>\n",
              "      <td>negative</td>\n",
              "      <td>This movie succeeds at being one of the most u...</td>\n",
              "      <td>False</td>\n",
              "    </tr>\n",
              "  </tbody>\n",
              "</table>\n",
              "</div>"
            ],
            "text/plain": [
              "      label                                               text  is_valid\n",
              "0  negative  Un-bleeping-believable! Meg Ryan doesn't even ...     False\n",
              "1  positive  This is a extremely well-made film. The acting...     False\n",
              "2  negative  Every once in a long while a movie will come a...     False\n",
              "3  positive  Name just says it all. I watched this movie wi...     False\n",
              "4  negative  This movie succeeds at being one of the most u...     False"
            ]
          },
          "metadata": {
            "tags": []
          },
          "execution_count": 52
        }
      ]
    },
    {
      "cell_type": "code",
      "metadata": {
        "id": "MpGo-4J-5TVE",
        "colab_type": "code",
        "outputId": "b4fb1d5b-56aa-4614-f24c-c74e8ab9c0dc",
        "colab": {
          "base_uri": "https://localhost:8080/",
          "height": 55
        }
      },
      "source": [
        "df['text'][1]"
      ],
      "execution_count": 53,
      "outputs": [
        {
          "output_type": "execute_result",
          "data": {
            "text/plain": [
              "'This is a extremely well-made film. The acting, script and camera-work are all first-rate. The music is good, too, though it is mostly early in the film, when things are still relatively cheery. There are no really superstars in the cast, though several faces will be familiar. The entire cast does an excellent job with the script.<br /><br />But it is hard to watch, because there is no good end to a situation like the one presented. It is now fashionable to blame the British for setting Hindus and Muslims against each other, and then cruelly separating them into two countries. There is some merit in this view, but it\\'s also true that no one forced Hindus and Muslims in the region to mistreat each other as they did around the time of partition. It seems more likely that the British simply saw the tensions between the religions and were clever enough to exploit them to their own ends.<br /><br />The result is that there is much cruelty and inhumanity in the situation and this is very unpleasant to remember and to see on the screen. But it is never painted as a black-and-white case. There is baseness and nobility on both sides, and also the hope for change in the younger generation.<br /><br />There is redemption of a sort, in the end, when Puro has to make a hard choice between a man who has ruined her life, but also truly loved her, and her family which has disowned her, then later come looking for her. But by that point, she has no option that is without great pain for her.<br /><br />This film carries the message that both Muslims and Hindus have their grave faults, and also that both can be dignified and caring people. The reality of partition makes that realisation all the more wrenching, since there can never be real reconciliation across the India/Pakistan border. In that sense, it is similar to \"Mr & Mrs Iyer\".<br /><br />In the end, we were glad to have seen the film, even though the resolution was heartbreaking. If the UK and US could deal with their own histories of racism with this kind of frankness, they would certainly be better off.'"
            ]
          },
          "metadata": {
            "tags": []
          },
          "execution_count": 53
        }
      ]
    },
    {
      "cell_type": "markdown",
      "metadata": {
        "id": "HDUTMYpZ7mZ1",
        "colab_type": "text"
      },
      "source": [
        "It contains one line per revie , with a lable('positive' or 'negative'), the text and a flag to determine if it should be part of the validation set or training set. If we ignoe this flag, we can create a DataBunch containing this data in one line of code."
      ]
    },
    {
      "cell_type": "code",
      "metadata": {
        "id": "zV7tFbEd5fsb",
        "colab_type": "code",
        "colab": {}
      },
      "source": [
        "data_lm = TextDataBunch.from_csv(path,'texts.csv')"
      ],
      "execution_count": 0,
      "outputs": []
    },
    {
      "cell_type": "markdown",
      "metadata": {
        "id": "E3UcaF456Flu",
        "colab_type": "text"
      },
      "source": [
        "By executing this line a process was launched that took a bit of time.Let's dig a bit into it. Images could be fed(almost) directly into a model beacause they're justa  big array of pixel values that are floats between 0  and 1. A text is composed of words, we can't apply matheamtical functions to them directly. We first have to convert them to numbers. This is done in two different steps:tokenization and numercalization. A textDataBunch does all of that behind the secens for you.\n",
        "\n",
        "Before we delve into the explaination,let's take to save things that were calculated."
      ]
    },
    {
      "cell_type": "code",
      "metadata": {
        "id": "g7mQNrK152h2",
        "colab_type": "code",
        "colab": {}
      },
      "source": [
        "data_lm.save()"
      ],
      "execution_count": 0,
      "outputs": []
    },
    {
      "cell_type": "markdown",
      "metadata": {
        "id": "hIUtM75Z-jLc",
        "colab_type": "text"
      },
      "source": [
        "Next time w elauch the notebook we skip all tye abov eliness and we can directly use this to save time"
      ]
    },
    {
      "cell_type": "code",
      "metadata": {
        "id": "eO5T3dui6A1n",
        "colab_type": "code",
        "colab": {}
      },
      "source": [
        "data = load_data(path)"
      ],
      "execution_count": 0,
      "outputs": []
    },
    {
      "cell_type": "markdown",
      "metadata": {
        "id": "RV2b5gB_-uNb",
        "colab_type": "text"
      },
      "source": [
        "#Tokenization\n",
        "The first step od processing we make texts go through is to split the raw sentences into words, or more exactly tokens. The easiest way to do this would be split the string on spaces, but we can be smarter:\n",
        " 1. We need to take care of punctuations\n",
        " 2.Some words are contaractions of two different words, like isn't and don't\n",
        " 3.We may need to clean some parts of our texts, if there's HTML code for instance\n",
        " \n",
        " \n",
        " \n",
        " To see what tokens had done the scenes, let's have a look texts in a batch.\n"
      ]
    },
    {
      "cell_type": "code",
      "metadata": {
        "id": "g3JJDHtT8swF",
        "colab_type": "code",
        "outputId": "f339ca5e-e66c-488b-f9ad-d8c8bdf6ee19",
        "colab": {
          "base_uri": "https://localhost:8080/",
          "height": 388
        }
      },
      "source": [
        "data = load_data(path)\n",
        "data.show_batch()"
      ],
      "execution_count": 57,
      "outputs": [
        {
          "output_type": "display_data",
          "data": {
            "text/html": [
              "<table border=\"1\" class=\"dataframe\">\n",
              "  <thead>\n",
              "    <tr style=\"text-align: right;\">\n",
              "      <th>text</th>\n",
              "      <th>target</th>\n",
              "    </tr>\n",
              "  </thead>\n",
              "  <tbody>\n",
              "    <tr>\n",
              "      <td>xxbos xxmaj raising xxmaj victor xxmaj vargas : a xxmaj review \\n \\n  xxmaj you know , xxmaj raising xxmaj victor xxmaj vargas is like sticking your hands into a big , steaming bowl of xxunk . xxmaj it 's warm and gooey , but you 're not sure if it feels right . xxmaj try as i might , no matter how warm and gooey xxmaj raising xxmaj</td>\n",
              "      <td>negative</td>\n",
              "    </tr>\n",
              "    <tr>\n",
              "      <td>xxbos xxup the xxup shop xxup around xxup the xxup corner is one of the sweetest and most feel - good romantic comedies ever made . xxmaj there 's just no getting around that , and it 's hard to actually put one 's feeling for this film into words . xxmaj it 's not one of those films that tries too hard , nor does it come up with</td>\n",
              "      <td>positive</td>\n",
              "    </tr>\n",
              "    <tr>\n",
              "      <td>xxbos xxmaj now that xxmaj che(2008 ) has finished its relatively short xxmaj australian cinema run ( extremely limited xxunk screen in xxmaj sydney , after xxunk ) , i can xxunk join both xxunk of \" xxmaj at xxmaj the xxmaj movies \" in taking xxmaj steven xxmaj soderbergh to task . \\n \\n  xxmaj it 's usually satisfying to watch a film director change his style /</td>\n",
              "      <td>negative</td>\n",
              "    </tr>\n",
              "    <tr>\n",
              "      <td>xxbos xxmaj this film sat on my xxmaj tivo for weeks before i watched it . i dreaded a self - indulgent xxunk flick about relationships gone bad . i was wrong ; this was an xxunk xxunk into the screwed - up xxunk of xxmaj new xxmaj yorkers . \\n \\n  xxmaj the format is the same as xxmaj max xxmaj xxunk ' \" xxmaj la xxmaj ronde</td>\n",
              "      <td>positive</td>\n",
              "    </tr>\n",
              "    <tr>\n",
              "      <td>xxbos xxmaj many neglect that this is n't just a classic due to the fact that it 's the first xxup 3d game , or even the first xxunk - up . xxmaj it 's also one of the first stealth games , one of the xxunk definitely the first ) truly claustrophobic games , and just a pretty well - rounded gaming experience in general . xxmaj with graphics</td>\n",
              "      <td>positive</td>\n",
              "    </tr>\n",
              "  </tbody>\n",
              "</table>"
            ],
            "text/plain": [
              "<IPython.core.display.HTML object>"
            ]
          },
          "metadata": {
            "tags": []
          }
        }
      ]
    },
    {
      "cell_type": "markdown",
      "metadata": {
        "id": "2ByB8rluBpFX",
        "colab_type": "text"
      },
      "source": [
        "The text are trucated at 100 tokens for more readility. We can see that it diid ore that just split on space and punctuation symbols:\n",
        "\n",
        "1.the \"s\" are grouped together in one token\n",
        "\n",
        "2.the contractions are separated like his:  \"did\" , \"n't\"\n",
        "\n",
        "3.content has been cleaned for any HTML symbol and lower cased\n",
        "\n",
        "4.there are several special tokens(all those that begin by xx), to replace unknown tokens(see below) or to introduce different text fields(here we only have one) \n"
      ]
    },
    {
      "cell_type": "markdown",
      "metadata": {
        "id": "6c9wPUKUDFK-",
        "colab_type": "text"
      },
      "source": [
        "#Numericalization\n",
        "\n",
        "Once we have extrated tokens from our texts, we can convert to integers by creating a list of all words used. We only keep the onces that appear at list twice with the maximum vocabulary size of 60,000(by default) and replace the ones that don't make the cut by th unknown token **UNK** \n",
        "\n",
        "The correspondance from ids tokens is stored in the **vocab** attribute of our datset, in a dictionary called itos(for int to string)"
      ]
    },
    {
      "cell_type": "code",
      "metadata": {
        "id": "VLoFn8FYEXyQ",
        "colab_type": "code",
        "outputId": "c82d1630-70f7-4a03-e495-ebd58ebdcbcb",
        "colab": {
          "base_uri": "https://localhost:8080/",
          "height": 199
        }
      },
      "source": [
        "data.vocab.itos[:10]"
      ],
      "execution_count": 58,
      "outputs": [
        {
          "output_type": "execute_result",
          "data": {
            "text/plain": [
              "['xxunk',\n",
              " 'xxpad',\n",
              " 'xxbos',\n",
              " 'xxeos',\n",
              " 'xxfld',\n",
              " 'xxmaj',\n",
              " 'xxup',\n",
              " 'xxrep',\n",
              " 'xxwrep',\n",
              " 'the']"
            ]
          },
          "metadata": {
            "tags": []
          },
          "execution_count": 58
        }
      ]
    },
    {
      "cell_type": "markdown",
      "metadata": {
        "id": "emGEa8_LEhQ9",
        "colab_type": "text"
      },
      "source": [
        "And if we look at what a what's in our datsste, we'll see the tokenized text as representation."
      ]
    },
    {
      "cell_type": "code",
      "metadata": {
        "id": "1ALcFdg2-bF0",
        "colab_type": "code",
        "outputId": "8a3ace2e-87d2-430b-aec2-10f72c60219a",
        "colab": {
          "base_uri": "https://localhost:8080/",
          "height": 55
        }
      },
      "source": [
        "data.train_ds[0][0] "
      ],
      "execution_count": 59,
      "outputs": [
        {
          "output_type": "execute_result",
          "data": {
            "text/plain": [
              "Text xxbos xxmaj all i can say is , first movie this season that got my attention . i picked it because of the actors , xxmaj xxunk and xxmaj claire , and the story looked promising .. i have just watched it and i can say - i 'm xxunk . xxmaj there are shocking scenes , true .. but that 's what makes it more realistic . xxmaj we should n't run away from our reality , these things are happening right this moment . xxmaj and there are experts who are trying to change things and make things better and who get laughed out about their commitment to the cause . xxmaj actually i ca n't seem to feel the \" xxmaj hollywood touch \" in the movie .. and that 's what makes it better . xxmaj both xxmaj claire and xxmaj richard did a great roles , and deserve a 10 from me ."
            ]
          },
          "metadata": {
            "tags": []
          },
          "execution_count": 59
        }
      ]
    },
    {
      "cell_type": "markdown",
      "metadata": {
        "id": "NFsvXWuGFYUr",
        "colab_type": "text"
      },
      "source": [
        "But underlying data is all numbers."
      ]
    },
    {
      "cell_type": "code",
      "metadata": {
        "id": "n5lhrVxDE1P4",
        "colab_type": "code",
        "outputId": "e725f69f-1db3-4f25-8fec-63cb5528d98b",
        "colab": {
          "base_uri": "https://localhost:8080/",
          "height": 35
        }
      },
      "source": [
        "data.train_ds[0][0].data[:10]"
      ],
      "execution_count": 60,
      "outputs": [
        {
          "output_type": "execute_result",
          "data": {
            "text/plain": [
              "array([  2,   5,  46,  19,  86, 150,  16,  10, 103,  30])"
            ]
          },
          "metadata": {
            "tags": []
          },
          "execution_count": 60
        }
      ]
    },
    {
      "cell_type": "code",
      "metadata": {
        "id": "c2kEPBmoFpqT",
        "colab_type": "code",
        "outputId": "2b607a43-9152-402a-c76f-108e5b0d8148",
        "colab": {
          "base_uri": "https://localhost:8080/",
          "height": 163
        }
      },
      "source": [
        "path = untar_data(URLs.IMDB)\n",
        "path.ls()"
      ],
      "execution_count": 61,
      "outputs": [
        {
          "output_type": "execute_result",
          "data": {
            "text/plain": [
              "[PosixPath('/root/.fastai/data/imdb/imdb.vocab'),\n",
              " PosixPath('/root/.fastai/data/imdb/tmp_clas'),\n",
              " PosixPath('/root/.fastai/data/imdb/unsup'),\n",
              " PosixPath('/root/.fastai/data/imdb/test'),\n",
              " PosixPath('/root/.fastai/data/imdb/README'),\n",
              " PosixPath('/root/.fastai/data/imdb/tmp_lm'),\n",
              " PosixPath('/root/.fastai/data/imdb/train'),\n",
              " PosixPath('/root/.fastai/data/imdb/models')]"
            ]
          },
          "metadata": {
            "tags": []
          },
          "execution_count": 61
        }
      ]
    },
    {
      "cell_type": "code",
      "metadata": {
        "id": "AyJsQFTqGVVy",
        "colab_type": "code",
        "outputId": "c7ddcc9f-b25a-481e-9d33-b3e3afd92be2",
        "colab": {
          "base_uri": "https://localhost:8080/",
          "height": 90
        }
      },
      "source": [
        "(path/'train').ls()"
      ],
      "execution_count": 62,
      "outputs": [
        {
          "output_type": "execute_result",
          "data": {
            "text/plain": [
              "[PosixPath('/root/.fastai/data/imdb/train/labeledBow.feat'),\n",
              " PosixPath('/root/.fastai/data/imdb/train/unsupBow.feat'),\n",
              " PosixPath('/root/.fastai/data/imdb/train/neg'),\n",
              " PosixPath('/root/.fastai/data/imdb/train/pos')]"
            ]
          },
          "metadata": {
            "tags": []
          },
          "execution_count": 62
        }
      ]
    },
    {
      "cell_type": "markdown",
      "metadata": {
        "id": "hTaShoqFrrYO",
        "colab_type": "text"
      },
      "source": [
        "#Language Model"
      ]
    },
    {
      "cell_type": "markdown",
      "metadata": {
        "id": "hPRXjNqJxeAu",
        "colab_type": "text"
      },
      "source": [
        "We're not going to train a model that classidies the reviews fro scratch. Like in the comuetr vison we'll use a pretarined on a bigger dataset(a cleaned subset of wikipedia called wikitext-103).That model has been tarined to guess what the next word,its input being all the previous words.It has a recurrent structure and a hidden state that is updated each time it sees a new word.This is hidden state thus contains information about the sentence up to that point.\n",
        "\n",
        "We are going to us that 'Knowledge' of English language to built our classifier,but first, like for computer vision, we need t fine-tune the pretarined model to our particular datset. Beacause the ENglish of the reviex lefts by the people on IMDB isnt the same as the English of wikipediua, we'll need to adjust a little the parameters  of our model. Plus there ight be soem words extreemly common in that dataset that were barely present in wikipedia, and therefore might no be part of the vocabulary the model was trained on.\n",
        "\n",
        "This is where unlablled data is going to useful to us, as we use it to fine tune our model.Let's create our data object with the data block API(next line takes a few minutes)\n"
      ]
    },
    {
      "cell_type": "code",
      "metadata": {
        "id": "WC7GDu-FGdpZ",
        "colab_type": "code",
        "colab": {}
      },
      "source": [
        "data_lm = (TextList.from_folder(path)\n",
        "           #Input all tyhe text files in the path\n",
        "           .filter_by_folder(include=['train','test'])\n",
        "           #We may have another temp folder that contains textfiles so we only keep what's in train and test\n",
        "           .split_by_rand_pct(0.1)\n",
        "           #We randomly split andkeep 10% (10,000 review) for validation\n",
        "           .label_for_lm()\n",
        "           #We want todo a language odel so we label accordingly\n",
        "           .databunch())\n",
        "data_lm.save('/tmp_lm')"
      ],
      "execution_count": 0,
      "outputs": []
    },
    {
      "cell_type": "code",
      "metadata": {
        "id": "MRJLMMSDtf3B",
        "colab_type": "code",
        "colab": {
          "base_uri": "https://localhost:8080/",
          "height": 371
        },
        "outputId": "9fb74695-739e-4940-f56e-c17dd5bb6ce8"
      },
      "source": [
        "data_lm.show_batch()"
      ],
      "execution_count": 64,
      "outputs": [
        {
          "output_type": "display_data",
          "data": {
            "text/html": [
              "<table border=\"1\" class=\"dataframe\">\n",
              "  <thead>\n",
              "    <tr style=\"text-align: right;\">\n",
              "      <th>idx</th>\n",
              "      <th>text</th>\n",
              "    </tr>\n",
              "  </thead>\n",
              "  <tbody>\n",
              "    <tr>\n",
              "      <td>0</td>\n",
              "      <td>better than number 5 . xxmaj my expectations were n't high to begin with , but this is cheap direct - to - video stuff , not even a horror movie , it 's xxup pg-13 . xxmaj the acting was not convincing , the story was rather dumb without any excitement and there were not many effects . xxmaj but the main problem is that there were no kills</td>\n",
              "    </tr>\n",
              "    <tr>\n",
              "      <td>1</td>\n",
              "      <td>can conveniently reveal herself as a top negotiator and diplomat , because she is so superior , ya know . xxmaj to top it out , she is played by a wooden actress . \\n \\n  xxmaj the more talented xxmaj boreanaz serves as a faire - xxunk token for this construct , acting as a bumbling comic - relief and house \" xxmaj watson \" . xxmaj in</td>\n",
              "    </tr>\n",
              "    <tr>\n",
              "      <td>2</td>\n",
              "      <td>person . xxmaj if you have a friend who laughs at everything , i encourage you to watch this movie with him or her , and watch as even they wo n't get a chuckle out of this film . xxmaj if you 're an insomniac this movie is sure to put you to sleep . xxmaj do not operate heavy machinery while watching xxmaj plan a part xxup ii</td>\n",
              "    </tr>\n",
              "    <tr>\n",
              "      <td>3</td>\n",
              "      <td>the description the cable had , atleast . xxmaj this film was awful . xxmaj it 's slow , the pacing is horrible , it feels as tho it lasts 4 hours . xxmaj there 's no real plot to speak of ... xxunk ! xxmaj how can anyone say anything good about this movie . xxmaj rickman is good ... but he always is ... the other two characters</td>\n",
              "    </tr>\n",
              "    <tr>\n",
              "      <td>4</td>\n",
              "      <td>guy that acted so much better with xxmaj keanu xxmaj reeves in xxmaj point xxmaj break play in this disaster . xxmaj it was a feel - good movie , but there are thousands of other feel - good movies that make you laugh without wanting you to get your money back . \\n \\n  xxmaj the only reason i would ever tell someone to rent this movie is</td>\n",
              "    </tr>\n",
              "  </tbody>\n",
              "</table>"
            ],
            "text/plain": [
              "<IPython.core.display.HTML object>"
            ]
          },
          "metadata": {
            "tags": []
          }
        }
      ]
    },
    {
      "cell_type": "markdown",
      "metadata": {
        "id": "pEw-bDwbz4in",
        "colab_type": "text"
      },
      "source": [
        "We can then put the learner object very easily with a model loaded with the pretarined weights.They'll be downloaded the first time you'll execute the following line and stored in'/fastai/models/'(or elsewhere if you specified diffrent paths in your config file)'"
      ]
    },
    {
      "cell_type": "code",
      "metadata": {
        "id": "crA1cm3Kw4g8",
        "colab_type": "code",
        "colab": {}
      },
      "source": [
        "learn = language_model_learner(data_lm,  AWD_LSTM, drop_mult=0.3)"
      ],
      "execution_count": 0,
      "outputs": []
    },
    {
      "cell_type": "code",
      "metadata": {
        "id": "drXnkBLQ0o8c",
        "colab_type": "code",
        "colab": {
          "base_uri": "https://localhost:8080/",
          "height": 35
        },
        "outputId": "18fc932d-c823-439d-eace-cd70ab6576ff"
      },
      "source": [
        "learn.lr_find()"
      ],
      "execution_count": 66,
      "outputs": [
        {
          "output_type": "display_data",
          "data": {
            "text/html": [
              ""
            ],
            "text/plain": [
              "<IPython.core.display.HTML object>"
            ]
          },
          "metadata": {
            "tags": []
          }
        },
        {
          "output_type": "stream",
          "text": [
            "LR Finder is complete, type {learner_name}.recorder.plot() to see the graph.\n"
          ],
          "name": "stdout"
        }
      ]
    },
    {
      "cell_type": "code",
      "metadata": {
        "id": "MiJYG5jt07yv",
        "colab_type": "code",
        "colab": {
          "base_uri": "https://localhost:8080/",
          "height": 284
        },
        "outputId": "4582f192-d46e-4b84-9e55-9d3d145e89fe"
      },
      "source": [
        "learn.recorder.plot(skip_end=15)"
      ],
      "execution_count": 67,
      "outputs": [
        {
          "output_type": "display_data",
          "data": {
            "image/png": "[encoded data removed]",
            "text/plain": [
              "<Figure size 432x288 with 1 Axes>"
            ]
          },
          "metadata": {
            "tags": []
          }
        }
      ]
    },
    {
      "cell_type": "code",
      "metadata": {
        "id": "1Tw4t4gZ1G4h",
        "colab_type": "code",
        "colab": {
          "base_uri": "https://localhost:8080/",
          "height": 78
        },
        "outputId": "c638f188-7d6a-4639-ab19-370657d11bb0"
      },
      "source": [
        "learn.fit_one_cycle(1,1e-2,moms=(0.8,0.7))"
      ],
      "execution_count": 68,
      "outputs": [
        {
          "output_type": "display_data",
          "data": {
            "text/html": [
              "<table border=\"1\" class=\"dataframe\">\n",
              "  <thead>\n",
              "    <tr style=\"text-align: left;\">\n",
              "      <th>epoch</th>\n",
              "      <th>train_loss</th>\n",
              "      <th>valid_loss</th>\n",
              "      <th>accuracy</th>\n",
              "      <th>time</th>\n",
              "    </tr>\n",
              "  </thead>\n",
              "  <tbody>\n",
              "    <tr>\n",
              "      <td>0</td>\n",
              "      <td>4.101762</td>\n",
              "      <td>3.963885</td>\n",
              "      <td>0.297464</td>\n",
              "      <td>19:09</td>\n",
              "    </tr>\n",
              "  </tbody>\n",
              "</table>"
            ],
            "text/plain": [
              "<IPython.core.display.HTML object>"
            ]
          },
          "metadata": {
            "tags": []
          }
        }
      ]
    },
    {
      "cell_type": "code",
      "metadata": {
        "id": "vETHOouc1m92",
        "colab_type": "code",
        "colab": {}
      },
      "source": [
        " learn.save('fit-head')"
      ],
      "execution_count": 0,
      "outputs": []
    },
    {
      "cell_type": "code",
      "metadata": {
        "id": "ULZqH-QD7y90",
        "colab_type": "code",
        "colab": {
          "base_uri": "https://localhost:8080/",
          "height": 1000
        },
        "outputId": "d09134ab-f4f2-4117-8e2d-34e3dfc63279"
      },
      "source": [
        "learn.load('fit-head')"
      ],
      "execution_count": 70,
      "outputs": [
        {
          "output_type": "execute_result",
          "data": {
            "text/plain": [
              "LanguageLearner(data=TextLMDataBunch;\n",
              "\n",
              "Train: LabelList (45000 items)\n",
              "x: LMTextList\n",
              "xxbos i absolutely love the first three movies , they were great ! i once caught xxmaj part 5 on xxup vhs 10 years ago , and i was disappointed . xxmaj but perhaps that was because i never saw the fourth one , because they were shot back - to - back . but after finally viewing a copy today , i have to say it was no way better than number 5 . xxmaj my expectations were n't high to begin with , but this is cheap direct - to - video stuff , not even a horror movie , it 's xxup pg-13 . xxmaj the acting was not convincing , the story was rather dumb without any excitement and there were not many effects . xxmaj but the main problem is that there were no kills or any gore ( the annoying kid who gets killed in his car was supposed to be the highlight , but come on .. ) \n",
              " \n",
              "  xxmaj surprisingly , both xxmaj parts 4 and 5 were directed by xxmaj sequel - director xxmaj jeff xxmaj burr who gave us the excellent xxmaj stepfather xxup ii and xxmaj leatherface : xxmaj texas xxmaj chainsaw xxmaj massacre xxup iii . i liked xxmaj puppet xxmaj master : xxmaj the xxmaj legacy , even if it was nothing else than a tribute with the best scenes from all movies . \n",
              " \n",
              "  xxmaj overall , xxmaj puppet xxmaj master is very much like the xxmaj hellraiser xxmaj series : a great trilogy but forget the rest ..,xxbos xxmaj warning : xxmaj this may contain xxup spoilers ! ! \n",
              " \n",
              "  xxmaj first of all i watch a lot xxmaj lifetime movies and realize they are just that xxrep 4 . xxmaj lifetime movies . xxmaj some are great ( really ) , some are good and some are bad . xxmaj unfortunately this movie falls into the latter category . xxmaj it actually started out with some potential xxrep 4 . single , divorced hard working mom ( who gets out of work at 2:00 xxup am ) cuts a guy off while driving home from work and let 's just say he does n't take it too well . xxmaj the stalking begins immediately with phone call hang ups and escalates to her home being broken into and completely trashed . xxmaj so she goes to her mother 's for the night and the next morning her mother 's car blows up . xxmaj this seems to be just a pain in the butt for our heroine who deals with it by going underwear and jewelry shopping ! ! ! xxmaj so the police put her and her son in a local motel for safe keeping and what does xxmaj mom do ? xxmaj she goes off to work leaving the kid all alone at night in a strange motel room and tells him to order a xxup pizza ! ! ! i could n't believe it ! xxmaj then it really gets stupid ! xxmaj and the ending just made me angry because it was so ridiculous and typical . xxmaj too bad because it seemed to have possibilities .,xxbos \" xxmaj get xxmaj shorty \" , \" xxmaj out of xxmaj sight \" , \" xxmaj jackie xxmaj brown \" ( and even \" 52 xxmaj pick - xxmaj xxunk were finally getting xxmaj elmore xxmaj leonard right , making good movies out of his work . xxmaj so , despite my students ' warnings about how bad this movie would be , i could n't resist renting it . i thought , xxmaj how bad can it be ? xxmaj oy , what a mistake , especially right on the heels of reading the book , which was lame ( and too xxunk self - referential , too ) relative to the rest of xxmaj elmore xxmaj leonard 's books . xxmaj still , the book was better than the movie . xxmaj leonard again trumps the weak and unskilled screen - writers who try to take over his book . xxmaj the dialogue written for xxmaj steven xxmaj tyler was painful to watch . xxmaj and the lyrics to the character xxmaj linda xxmaj moon 's first song ? xxmaj my middle - schoolers write with more depth . xxmaj sad , sad , sad . xxmaj why even give it a star ? xxmaj because xxmaj harvey xxmaj keitel and xxmaj uma xxmaj thurman are still fun to see on screen , and xxmaj andre 3000 did n't make a complete fool of himself .,xxbos * * * xxmaj may contain spoilers * * * \n",
              " \n",
              "  i had very high expectations for this film , based on the trailer . i knew a bit about the real xxmaj ed xxmaj gein , so i figured this was a medium - budget xxmaj hollywood version of the real events . xxmaj man was i wrong . \n",
              " \n",
              "  xxmaj first , the writing apparently came from an eight - grader who barely knew anything about xxmaj ed 's history and cranked out the script in about 20 minutes . xxmaj the movie completely passes over the most interesting facets of xxmaj ed and his relationship with his mother ( not to mention what the real police found in his house ) and decides to focus primarily on the young deputy who looks like he just wandered onto the set . xxmaj likewise , all of the male characters seem to be ad - libbing their dialog throughout the entire movie . i 'm not exaggerating . \n",
              " \n",
              "  xxmaj do n't even get me started with the historical goofs in this movie . xxmaj seriously , who the hell directed this ? xxmaj this movie is supposed to take place around 1957 , but the cops are carrying modern side - handled xxunk , some of the stuff in the hardware store look like they came from xxmaj xxunk , and when the cop gets to a payphone he dials 9 - 1 - 1 ( did n't exist back then ) . xxmaj also , xxmaj ed was a small guy , scary like xxmaj anthony xxmaj perkins ' character in xxmaj psycho ( who was supposedly based on real - life xxmaj ed ) , not this burly dude who ended up looking way too much like the bad guy in xxmaj men xxmaj in xxmaj black . \n",
              " \n",
              "  xxmaj another thing that really bugged me was the appearance that the makers of this film shot the whole thing in an abandoned , 3 building set . xxmaj because of the \" clever \" camera angles , you never see any actual town , and the interior of the sets looked like old , long - abandoned shacks . xxmaj pop a cash register on a saw - horse and xxunk hardware store . \n",
              " \n",
              "  i 'm usually pretty forgiving of low - budget horror films , but this one just begs for it . xxmaj all you had to do was include most of the real events ( even embellish them ! ) , pay five good actors instead of 15 crappy ones , and for xxmaj pete 's sake take 5 minutes and think about the time period once in a while . xxmaj my advice : xxmaj google xxmaj ed xxmaj gein , you 'll be far more entertained .,xxbos xxmaj do not watch this movie , go see something else ... i was very disappointed , i can not rate this movie any better than 3 . xxmaj the acting was quite good and i really liked xxmaj william xxmaj dafoe as the villain , but i can not see why this movie made it to the big screen . xxmaj the story was old and has been shown in 100 + other movies and 1000 + xxup tv series / movies . xxmaj the main problem was basically : xxmaj nothing is happening . xxmaj take a kidnapping , let the villain make the wife of the kidnapped man deliver the money , make the police look stupid and boring and extend this to 95 minutes , you got your \" xxmaj clearing \" movie . xxmaj the only 2 reasons i did not rate this a 1 was a ) xxmaj dafoe and b ) the \" plan - b - ending \" . xxmaj there are not many endings you can give a kidnapper movie ... 75 % of these kind end with ending a , 20 % end ending b and 1 % ends with something xxunk . xxmaj boring , boring , boring .\n",
              "y: LMLabelList\n",
              ",,,,\n",
              "Path: /root/.fastai/data/imdb;\n",
              "\n",
              "Valid: LabelList (5000 items)\n",
              "x: LMTextList\n",
              "xxbos xxmaj it 's a little disconcerting to have a character named xxmaj gig xxmaj young in a movie ... played by xxmaj gig xxmaj young . xxmaj but this film is where xxmaj gig got his name and also a nice career boost after playing small parts under another name . \n",
              " \n",
              "  i 'm going to go against the majority of the other comments and state that i really enjoyed this film , mainly because of the vibrant performance of xxmaj barbara xxmaj stanwyck as xxmaj fiona . xxmaj she was funny , angry , vulnerable , caring , and feisty as the oldest of three daughters whose mother died on the xxmaj xxunk , and whose father was later killed during xxmaj xxunk xxmaj war xxup i. \n",
              " \n",
              "  xxmaj as the \" man \" of the house , xxmaj fiona has stood steadfast for years against settling her father 's will which would therefore allow a xxmaj donald xxmaj trump type named xxmaj charles xxmaj barclay to get the family home . xxmaj but xxmaj fiona 's keeping a secret as to why she hates xxmaj barclay so much . xxmaj geraldine xxmaj fitzgerald is the middle , flirty sister , who is married to an xxmaj englishman but craves her youngest sister 's boyfriend ( xxmaj gig xxmaj young ) . \n",
              " \n",
              "  xxmaj if you 're a xxmaj stanwyck fan , this is a no miss .,xxbos xxmaj this documentary about the life and comedy of xxmaj bill xxmaj hicks features bits from xxmaj hicks ' \" xxmaj revelations \" and other stand - up gigs . xxmaj it also features interviews with fellow comedians and people in the industry who knew him , as well as reporters and journalists who talk about how his political commentary was raw and brutal . \n",
              " \n",
              "  i enjoyed it very much . i had already seen \" xxmaj revelations \" but the comedy clips were still refreshing . xxmaj it 's a nice balance of comedy and documentary that will explain xxmaj hicks ' popularity to non - fans and please those who are already familiar with him . \n",
              " \n",
              "  i rated it a ten .,xxbos xxmaj this is a story of a long and awkward love . xxmaj the daily life of a woman of 50 years old and some people around her is depicted . xxmaj her daily life is so ordinary and routine that i doubted who was the real lead character in the beginning . xxmaj then the audiences know that the woman and a man who was her high - school class mate had very tiny connection . xxmaj the woman has been doing the same job - a milk - woman and a supermarket xxunk - so long . xxmaj there are so many slopes that delivering milk bottles is a very hard job . xxmaj the man had married another woman , who is now dying of cancer . xxmaj he works at the xxmaj city xxmaj hall and xxunk cares her at home . xxmaj they never look straight nor talk each other , but they never forget each other . \n",
              " \n",
              "  xxmaj the original xxmaj japanese title means \" xxmaj at some time the days you read books \" . xxmaj but of course when the man said \" xxmaj now i want to do what i 've always wanted to do \" , it was to hug her and make love with her . xxmaj she writes to a radio disk jockey that \" xxmaj if xxmaj god gives us time to talk , we need at least a whole day \" . xxmaj dreaming of that day , she has been xxunk the desire in hard work and book reading . i personally know a woman who has loved a man for long years , even after he married another woman and died for an accident . xxmaj therefore the story setting is not that special . xxmaj rather , this movie well portrays unspoken romances in many ordinary men and women . xxmaj through this movie , you will recall your romance that is lost long ago . xxmaj this is a movie with lasting effect .,xxbos xxmaj xxunk : xxmaj excellent , nice camera angles ( i do n't remember seeing a movie of late , with good close - ups , until this one ) . xxmaj could have avoided gruesome scenes with a soft camera . xxup ny is pictured good . i liked the upside down angles , in particular ( a different touch ) . \n",
              " \n",
              "  xxmaj music : xxmaj not impressive . xxmaj songs do n't stick around in your mind even after watching the movie . xxmaj may be , i expected same quality like \" xxmaj xxunk \" . a disappointment . \n",
              " \n",
              "  xxmaj actors : xxmaj kamal needs to slowly pull away from hard - core action sequences . xxmaj his age and belly really show up . xxmaj also , he should avoid close romantic sequences going forward . xxmaj it was a very awkward to see a mature / aged star still trying to play like a 20 + heroes scenes . xxmaj love can be expressed at any age ; as we get older , you still can express love nicely from a distance ( without touching a woman too much . xxmaj for example , the love expressed by xxmaj rajinikanth in \" xxunk \" ) . \n",
              " \n",
              "  xxmaj xxunk just appears for the namesake in the movie . xxmaj not sure why she accepted this . xxmaj well , that is not my problem , i guess . \n",
              " \n",
              "  xxmaj others just have a small presence . \n",
              " \n",
              "  xxmaj direction : i expected xxmaj gautham to excel ( or measure - up ) to his other movie \" xxmaj xxunk xxmaj xxunk \" . xxmaj he xxunk me . xxmaj it took a long time to release the movie due to various issues . xxmaj he slips in few scenes . xxmaj even xxunk things got slipped from a famous director . \n",
              " \n",
              "  xxmaj overall : xxmaj just a okay movie . xxmaj too much graphics . xxup definitely not for kids ( and adults who expect some kind of \" xxmaj entertainment \" ) . \n",
              " \n",
              "  xxmaj thx,xxbos xxmaj do you ever wonder what is the worst movie ever made ? xxmaj stop wondering . i 'm telling you , xxmaj michael is it ! \n",
              " \n",
              "  xxmaj it is not \" heartwarming , \" \" entertaining , \" or \" xxmaj travolta at his best . \" xxmaj it just sucks . xxmaj if i had kids , i would let them watch xxmaj deep xxmaj throat before xxmaj michael ! \n",
              " \n",
              "  a sold - out xxmaj john xxmaj travolta , a washed - up and balding xxmaj william xxmaj hurt , and an about to die any time now xxmaj jean xxmaj stapleton highlight this turd of a film . \n",
              " \n",
              "  xxmaj but wait ... you'll get to hear xxmaj andie mcdowell sing ! xxmaj yeah . xxmaj hollywood really s**t all over us with this one !\n",
              "y: LMLabelList\n",
              ",,,,\n",
              "Path: /root/.fastai/data/imdb;\n",
              "\n",
              "Test: None, model=SequentialRNN(\n",
              "  (0): AWD_LSTM(\n",
              "    (encoder): Embedding(49944, 400, padding_idx=1)\n",
              "    (encoder_dp): EmbeddingDropout(\n",
              "      (emb): Embedding(49944, 400, padding_idx=1)\n",
              "    )\n",
              "    (rnns): ModuleList(\n",
              "      (0): WeightDropout(\n",
              "        (module): LSTM(400, 1152, batch_first=True)\n",
              "      )\n",
              "      (1): WeightDropout(\n",
              "        (module): LSTM(1152, 1152, batch_first=True)\n",
              "      )\n",
              "      (2): WeightDropout(\n",
              "        (module): LSTM(1152, 400, batch_first=True)\n",
              "      )\n",
              "    )\n",
              "    (input_dp): RNNDropout()\n",
              "    (hidden_dps): ModuleList(\n",
              "      (0): RNNDropout()\n",
              "      (1): RNNDropout()\n",
              "      (2): RNNDropout()\n",
              "    )\n",
              "  )\n",
              "  (1): LinearDecoder(\n",
              "    (decoder): Linear(in_features=400, out_features=49944, bias=True)\n",
              "    (output_dp): RNNDropout()\n",
              "  )\n",
              "), opt_func=functools.partial(<class 'torch.optim.adam.Adam'>, betas=(0.9, 0.99)), loss_func=FlattenedLoss of CrossEntropyLoss(), metrics=[<function accuracy at 0x7f6fe0326f28>], true_wd=True, bn_wd=True, wd=0.01, train_bn=True, path=PosixPath('/root/.fastai/data/imdb'), model_dir='models', callback_fns=[functools.partial(<class 'fastai.basic_train.Recorder'>, add_time=True, silent=False)], callbacks=[RNNTrainer\n",
              "learn: LanguageLearner(data=TextLMDataBunch;\n",
              "\n",
              "Train: LabelList (45000 items)\n",
              "x: LMTextList\n",
              "xxbos i absolutely love the first three movies , they were great ! i once caught xxmaj part 5 on xxup vhs 10 years ago , and i was disappointed . xxmaj but perhaps that was because i never saw the fourth one , because they were shot back - to - back . but after finally viewing a copy today , i have to say it was no way better than number 5 . xxmaj my expectations were n't high to begin with , but this is cheap direct - to - video stuff , not even a horror movie , it 's xxup pg-13 . xxmaj the acting was not convincing , the story was rather dumb without any excitement and there were not many effects . xxmaj but the main problem is that there were no kills or any gore ( the annoying kid who gets killed in his car was supposed to be the highlight , but come on .. ) \n",
              " \n",
              "  xxmaj surprisingly , both xxmaj parts 4 and 5 were directed by xxmaj sequel - director xxmaj jeff xxmaj burr who gave us the excellent xxmaj stepfather xxup ii and xxmaj leatherface : xxmaj texas xxmaj chainsaw xxmaj massacre xxup iii . i liked xxmaj puppet xxmaj master : xxmaj the xxmaj legacy , even if it was nothing else than a tribute with the best scenes from all movies . \n",
              " \n",
              "  xxmaj overall , xxmaj puppet xxmaj master is very much like the xxmaj hellraiser xxmaj series : a great trilogy but forget the rest ..,xxbos xxmaj warning : xxmaj this may contain xxup spoilers ! ! \n",
              " \n",
              "  xxmaj first of all i watch a lot xxmaj lifetime movies and realize they are just that xxrep 4 . xxmaj lifetime movies . xxmaj some are great ( really ) , some are good and some are bad . xxmaj unfortunately this movie falls into the latter category . xxmaj it actually started out with some potential xxrep 4 . single , divorced hard working mom ( who gets out of work at 2:00 xxup am ) cuts a guy off while driving home from work and let 's just say he does n't take it too well . xxmaj the stalking begins immediately with phone call hang ups and escalates to her home being broken into and completely trashed . xxmaj so she goes to her mother 's for the night and the next morning her mother 's car blows up . xxmaj this seems to be just a pain in the butt for our heroine who deals with it by going underwear and jewelry shopping ! ! ! xxmaj so the police put her and her son in a local motel for safe keeping and what does xxmaj mom do ? xxmaj she goes off to work leaving the kid all alone at night in a strange motel room and tells him to order a xxup pizza ! ! ! i could n't believe it ! xxmaj then it really gets stupid ! xxmaj and the ending just made me angry because it was so ridiculous and typical . xxmaj too bad because it seemed to have possibilities .,xxbos \" xxmaj get xxmaj shorty \" , \" xxmaj out of xxmaj sight \" , \" xxmaj jackie xxmaj brown \" ( and even \" 52 xxmaj pick - xxmaj xxunk were finally getting xxmaj elmore xxmaj leonard right , making good movies out of his work . xxmaj so , despite my students ' warnings about how bad this movie would be , i could n't resist renting it . i thought , xxmaj how bad can it be ? xxmaj oy , what a mistake , especially right on the heels of reading the book , which was lame ( and too xxunk self - referential , too ) relative to the rest of xxmaj elmore xxmaj leonard 's books . xxmaj still , the book was better than the movie . xxmaj leonard again trumps the weak and unskilled screen - writers who try to take over his book . xxmaj the dialogue written for xxmaj steven xxmaj tyler was painful to watch . xxmaj and the lyrics to the character xxmaj linda xxmaj moon 's first song ? xxmaj my middle - schoolers write with more depth . xxmaj sad , sad , sad . xxmaj why even give it a star ? xxmaj because xxmaj harvey xxmaj keitel and xxmaj uma xxmaj thurman are still fun to see on screen , and xxmaj andre 3000 did n't make a complete fool of himself .,xxbos * * * xxmaj may contain spoilers * * * \n",
              " \n",
              "  i had very high expectations for this film , based on the trailer . i knew a bit about the real xxmaj ed xxmaj gein , so i figured this was a medium - budget xxmaj hollywood version of the real events . xxmaj man was i wrong . \n",
              " \n",
              "  xxmaj first , the writing apparently came from an eight - grader who barely knew anything about xxmaj ed 's history and cranked out the script in about 20 minutes . xxmaj the movie completely passes over the most interesting facets of xxmaj ed and his relationship with his mother ( not to mention what the real police found in his house ) and decides to focus primarily on the young deputy who looks like he just wandered onto the set . xxmaj likewise , all of the male characters seem to be ad - libbing their dialog throughout the entire movie . i 'm not exaggerating . \n",
              " \n",
              "  xxmaj do n't even get me started with the historical goofs in this movie . xxmaj seriously , who the hell directed this ? xxmaj this movie is supposed to take place around 1957 , but the cops are carrying modern side - handled xxunk , some of the stuff in the hardware store look like they came from xxmaj xxunk , and when the cop gets to a payphone he dials 9 - 1 - 1 ( did n't exist back then ) . xxmaj also , xxmaj ed was a small guy , scary like xxmaj anthony xxmaj perkins ' character in xxmaj psycho ( who was supposedly based on real - life xxmaj ed ) , not this burly dude who ended up looking way too much like the bad guy in xxmaj men xxmaj in xxmaj black . \n",
              " \n",
              "  xxmaj another thing that really bugged me was the appearance that the makers of this film shot the whole thing in an abandoned , 3 building set . xxmaj because of the \" clever \" camera angles , you never see any actual town , and the interior of the sets looked like old , long - abandoned shacks . xxmaj pop a cash register on a saw - horse and xxunk hardware store . \n",
              " \n",
              "  i 'm usually pretty forgiving of low - budget horror films , but this one just begs for it . xxmaj all you had to do was include most of the real events ( even embellish them ! ) , pay five good actors instead of 15 crappy ones , and for xxmaj pete 's sake take 5 minutes and think about the time period once in a while . xxmaj my advice : xxmaj google xxmaj ed xxmaj gein , you 'll be far more entertained .,xxbos xxmaj do not watch this movie , go see something else ... i was very disappointed , i can not rate this movie any better than 3 . xxmaj the acting was quite good and i really liked xxmaj william xxmaj dafoe as the villain , but i can not see why this movie made it to the big screen . xxmaj the story was old and has been shown in 100 + other movies and 1000 + xxup tv series / movies . xxmaj the main problem was basically : xxmaj nothing is happening . xxmaj take a kidnapping , let the villain make the wife of the kidnapped man deliver the money , make the police look stupid and boring and extend this to 95 minutes , you got your \" xxmaj clearing \" movie . xxmaj the only 2 reasons i did not rate this a 1 was a ) xxmaj dafoe and b ) the \" plan - b - ending \" . xxmaj there are not many endings you can give a kidnapper movie ... 75 % of these kind end with ending a , 20 % end ending b and 1 % ends with something xxunk . xxmaj boring , boring , boring .\n",
              "y: LMLabelList\n",
              ",,,,\n",
              "Path: /root/.fastai/data/imdb;\n",
              "\n",
              "Valid: LabelList (5000 items)\n",
              "x: LMTextList\n",
              "xxbos xxmaj it 's a little disconcerting to have a character named xxmaj gig xxmaj young in a movie ... played by xxmaj gig xxmaj young . xxmaj but this film is where xxmaj gig got his name and also a nice career boost after playing small parts under another name . \n",
              " \n",
              "  i 'm going to go against the majority of the other comments and state that i really enjoyed this film , mainly because of the vibrant performance of xxmaj barbara xxmaj stanwyck as xxmaj fiona . xxmaj she was funny , angry , vulnerable , caring , and feisty as the oldest of three daughters whose mother died on the xxmaj xxunk , and whose father was later killed during xxmaj xxunk xxmaj war xxup i. \n",
              " \n",
              "  xxmaj as the \" man \" of the house , xxmaj fiona has stood steadfast for years against settling her father 's will which would therefore allow a xxmaj donald xxmaj trump type named xxmaj charles xxmaj barclay to get the family home . xxmaj but xxmaj fiona 's keeping a secret as to why she hates xxmaj barclay so much . xxmaj geraldine xxmaj fitzgerald is the middle , flirty sister , who is married to an xxmaj englishman but craves her youngest sister 's boyfriend ( xxmaj gig xxmaj young ) . \n",
              " \n",
              "  xxmaj if you 're a xxmaj stanwyck fan , this is a no miss .,xxbos xxmaj this documentary about the life and comedy of xxmaj bill xxmaj hicks features bits from xxmaj hicks ' \" xxmaj revelations \" and other stand - up gigs . xxmaj it also features interviews with fellow comedians and people in the industry who knew him , as well as reporters and journalists who talk about how his political commentary was raw and brutal . \n",
              " \n",
              "  i enjoyed it very much . i had already seen \" xxmaj revelations \" but the comedy clips were still refreshing . xxmaj it 's a nice balance of comedy and documentary that will explain xxmaj hicks ' popularity to non - fans and please those who are already familiar with him . \n",
              " \n",
              "  i rated it a ten .,xxbos xxmaj this is a story of a long and awkward love . xxmaj the daily life of a woman of 50 years old and some people around her is depicted . xxmaj her daily life is so ordinary and routine that i doubted who was the real lead character in the beginning . xxmaj then the audiences know that the woman and a man who was her high - school class mate had very tiny connection . xxmaj the woman has been doing the same job - a milk - woman and a supermarket xxunk - so long . xxmaj there are so many slopes that delivering milk bottles is a very hard job . xxmaj the man had married another woman , who is now dying of cancer . xxmaj he works at the xxmaj city xxmaj hall and xxunk cares her at home . xxmaj they never look straight nor talk each other , but they never forget each other . \n",
              " \n",
              "  xxmaj the original xxmaj japanese title means \" xxmaj at some time the days you read books \" . xxmaj but of course when the man said \" xxmaj now i want to do what i 've always wanted to do \" , it was to hug her and make love with her . xxmaj she writes to a radio disk jockey that \" xxmaj if xxmaj god gives us time to talk , we need at least a whole day \" . xxmaj dreaming of that day , she has been xxunk the desire in hard work and book reading . i personally know a woman who has loved a man for long years , even after he married another woman and died for an accident . xxmaj therefore the story setting is not that special . xxmaj rather , this movie well portrays unspoken romances in many ordinary men and women . xxmaj through this movie , you will recall your romance that is lost long ago . xxmaj this is a movie with lasting effect .,xxbos xxmaj xxunk : xxmaj excellent , nice camera angles ( i do n't remember seeing a movie of late , with good close - ups , until this one ) . xxmaj could have avoided gruesome scenes with a soft camera . xxup ny is pictured good . i liked the upside down angles , in particular ( a different touch ) . \n",
              " \n",
              "  xxmaj music : xxmaj not impressive . xxmaj songs do n't stick around in your mind even after watching the movie . xxmaj may be , i expected same quality like \" xxmaj xxunk \" . a disappointment . \n",
              " \n",
              "  xxmaj actors : xxmaj kamal needs to slowly pull away from hard - core action sequences . xxmaj his age and belly really show up . xxmaj also , he should avoid close romantic sequences going forward . xxmaj it was a very awkward to see a mature / aged star still trying to play like a 20 + heroes scenes . xxmaj love can be expressed at any age ; as we get older , you still can express love nicely from a distance ( without touching a woman too much . xxmaj for example , the love expressed by xxmaj rajinikanth in \" xxunk \" ) . \n",
              " \n",
              "  xxmaj xxunk just appears for the namesake in the movie . xxmaj not sure why she accepted this . xxmaj well , that is not my problem , i guess . \n",
              " \n",
              "  xxmaj others just have a small presence . \n",
              " \n",
              "  xxmaj direction : i expected xxmaj gautham to excel ( or measure - up ) to his other movie \" xxmaj xxunk xxmaj xxunk \" . xxmaj he xxunk me . xxmaj it took a long time to release the movie due to various issues . xxmaj he slips in few scenes . xxmaj even xxunk things got slipped from a famous director . \n",
              " \n",
              "  xxmaj overall : xxmaj just a okay movie . xxmaj too much graphics . xxup definitely not for kids ( and adults who expect some kind of \" xxmaj entertainment \" ) . \n",
              " \n",
              "  xxmaj thx,xxbos xxmaj do you ever wonder what is the worst movie ever made ? xxmaj stop wondering . i 'm telling you , xxmaj michael is it ! \n",
              " \n",
              "  xxmaj it is not \" heartwarming , \" \" entertaining , \" or \" xxmaj travolta at his best . \" xxmaj it just sucks . xxmaj if i had kids , i would let them watch xxmaj deep xxmaj throat before xxmaj michael ! \n",
              " \n",
              "  a sold - out xxmaj john xxmaj travolta , a washed - up and balding xxmaj william xxmaj hurt , and an about to die any time now xxmaj jean xxmaj stapleton highlight this turd of a film . \n",
              " \n",
              "  xxmaj but wait ... you'll get to hear xxmaj andie mcdowell sing ! xxmaj yeah . xxmaj hollywood really s**t all over us with this one !\n",
              "y: LMLabelList\n",
              ",,,,\n",
              "Path: /root/.fastai/data/imdb;\n",
              "\n",
              "Test: None, model=SequentialRNN(\n",
              "  (0): AWD_LSTM(\n",
              "    (encoder): Embedding(49944, 400, padding_idx=1)\n",
              "    (encoder_dp): EmbeddingDropout(\n",
              "      (emb): Embedding(49944, 400, padding_idx=1)\n",
              "    )\n",
              "    (rnns): ModuleList(\n",
              "      (0): WeightDropout(\n",
              "        (module): LSTM(400, 1152, batch_first=True)\n",
              "      )\n",
              "      (1): WeightDropout(\n",
              "        (module): LSTM(1152, 1152, batch_first=True)\n",
              "      )\n",
              "      (2): WeightDropout(\n",
              "        (module): LSTM(1152, 400, batch_first=True)\n",
              "      )\n",
              "    )\n",
              "    (input_dp): RNNDropout()\n",
              "    (hidden_dps): ModuleList(\n",
              "      (0): RNNDropout()\n",
              "      (1): RNNDropout()\n",
              "      (2): RNNDropout()\n",
              "    )\n",
              "  )\n",
              "  (1): LinearDecoder(\n",
              "    (decoder): Linear(in_features=400, out_features=49944, bias=True)\n",
              "    (output_dp): RNNDropout()\n",
              "  )\n",
              "), opt_func=functools.partial(<class 'torch.optim.adam.Adam'>, betas=(0.9, 0.99)), loss_func=FlattenedLoss of CrossEntropyLoss(), metrics=[<function accuracy at 0x7f6fe0326f28>], true_wd=True, bn_wd=True, wd=0.01, train_bn=True, path=PosixPath('/root/.fastai/data/imdb'), model_dir='models', callback_fns=[functools.partial(<class 'fastai.basic_train.Recorder'>, add_time=True, silent=False)], callbacks=[...], layer_groups=[Sequential(\n",
              "  (0): WeightDropout(\n",
              "    (module): LSTM(400, 1152, batch_first=True)\n",
              "  )\n",
              "  (1): RNNDropout()\n",
              "), Sequential(\n",
              "  (0): WeightDropout(\n",
              "    (module): LSTM(1152, 1152, batch_first=True)\n",
              "  )\n",
              "  (1): RNNDropout()\n",
              "), Sequential(\n",
              "  (0): WeightDropout(\n",
              "    (module): LSTM(1152, 400, batch_first=True)\n",
              "  )\n",
              "  (1): RNNDropout()\n",
              "), Sequential(\n",
              "  (0): Embedding(49944, 400, padding_idx=1)\n",
              "  (1): EmbeddingDropout(\n",
              "    (emb): Embedding(49944, 400, padding_idx=1)\n",
              "  )\n",
              "  (2): LinearDecoder(\n",
              "    (decoder): Linear(in_features=400, out_features=49944, bias=True)\n",
              "    (output_dp): RNNDropout()\n",
              "  )\n",
              ")], add_time=True, silent=False)\n",
              "alpha: 2.0\n",
              "beta: 1.0], layer_groups=[Sequential(\n",
              "  (0): WeightDropout(\n",
              "    (module): LSTM(400, 1152, batch_first=True)\n",
              "  )\n",
              "  (1): RNNDropout()\n",
              "), Sequential(\n",
              "  (0): WeightDropout(\n",
              "    (module): LSTM(1152, 1152, batch_first=True)\n",
              "  )\n",
              "  (1): RNNDropout()\n",
              "), Sequential(\n",
              "  (0): WeightDropout(\n",
              "    (module): LSTM(1152, 400, batch_first=True)\n",
              "  )\n",
              "  (1): RNNDropout()\n",
              "), Sequential(\n",
              "  (0): Embedding(49944, 400, padding_idx=1)\n",
              "  (1): EmbeddingDropout(\n",
              "    (emb): Embedding(49944, 400, padding_idx=1)\n",
              "  )\n",
              "  (2): LinearDecoder(\n",
              "    (decoder): Linear(in_features=400, out_features=49944, bias=True)\n",
              "    (output_dp): RNNDropout()\n",
              "  )\n",
              ")], add_time=True, silent=False)"
            ]
          },
          "metadata": {
            "tags": []
          },
          "execution_count": 70
        }
      ]
    },
    {
      "cell_type": "code",
      "metadata": {
        "id": "MuH5tMpM72DO",
        "colab_type": "code",
        "colab": {
          "base_uri": "https://localhost:8080/",
          "height": 35
        },
        "outputId": "0ca46f9b-271b-4b0b-836c-c8d1acaa2f0b"
      },
      "source": [
        "learn.predict('The school is ', 1, temperature=1.1,min_p=0.001)"
      ],
      "execution_count": 71,
      "outputs": [
        {
          "output_type": "execute_result",
          "data": {
            "text/plain": [
              "'The school is  being'"
            ]
          },
          "metadata": {
            "tags": []
          },
          "execution_count": 71
        }
      ]
    },
    {
      "cell_type": "code",
      "metadata": {
        "id": "Le9vOMNU8BPW",
        "colab_type": "code",
        "colab": {}
      },
      "source": [
        " learn.save('fit-head')"
      ],
      "execution_count": 0,
      "outputs": []
    },
    {
      "cell_type": "code",
      "metadata": {
        "id": "u83SudAR9Dz-",
        "colab_type": "code",
        "colab": {
          "base_uri": "https://localhost:8080/",
          "height": 1000
        },
        "outputId": "d519ea89-bd86-43df-8fe4-04ed2b21aec9"
      },
      "source": [
        " learn.load('fit-head')"
      ],
      "execution_count": 73,
      "outputs": [
        {
          "output_type": "execute_result",
          "data": {
            "text/plain": [
              "LanguageLearner(data=TextLMDataBunch;\n",
              "\n",
              "Train: LabelList (45000 items)\n",
              "x: LMTextList\n",
              "xxbos i absolutely love the first three movies , they were great ! i once caught xxmaj part 5 on xxup vhs 10 years ago , and i was disappointed . xxmaj but perhaps that was because i never saw the fourth one , because they were shot back - to - back . but after finally viewing a copy today , i have to say it was no way better than number 5 . xxmaj my expectations were n't high to begin with , but this is cheap direct - to - video stuff , not even a horror movie , it 's xxup pg-13 . xxmaj the acting was not convincing , the story was rather dumb without any excitement and there were not many effects . xxmaj but the main problem is that there were no kills or any gore ( the annoying kid who gets killed in his car was supposed to be the highlight , but come on .. ) \n",
              " \n",
              "  xxmaj surprisingly , both xxmaj parts 4 and 5 were directed by xxmaj sequel - director xxmaj jeff xxmaj burr who gave us the excellent xxmaj stepfather xxup ii and xxmaj leatherface : xxmaj texas xxmaj chainsaw xxmaj massacre xxup iii . i liked xxmaj puppet xxmaj master : xxmaj the xxmaj legacy , even if it was nothing else than a tribute with the best scenes from all movies . \n",
              " \n",
              "  xxmaj overall , xxmaj puppet xxmaj master is very much like the xxmaj hellraiser xxmaj series : a great trilogy but forget the rest ..,xxbos xxmaj warning : xxmaj this may contain xxup spoilers ! ! \n",
              " \n",
              "  xxmaj first of all i watch a lot xxmaj lifetime movies and realize they are just that xxrep 4 . xxmaj lifetime movies . xxmaj some are great ( really ) , some are good and some are bad . xxmaj unfortunately this movie falls into the latter category . xxmaj it actually started out with some potential xxrep 4 . single , divorced hard working mom ( who gets out of work at 2:00 xxup am ) cuts a guy off while driving home from work and let 's just say he does n't take it too well . xxmaj the stalking begins immediately with phone call hang ups and escalates to her home being broken into and completely trashed . xxmaj so she goes to her mother 's for the night and the next morning her mother 's car blows up . xxmaj this seems to be just a pain in the butt for our heroine who deals with it by going underwear and jewelry shopping ! ! ! xxmaj so the police put her and her son in a local motel for safe keeping and what does xxmaj mom do ? xxmaj she goes off to work leaving the kid all alone at night in a strange motel room and tells him to order a xxup pizza ! ! ! i could n't believe it ! xxmaj then it really gets stupid ! xxmaj and the ending just made me angry because it was so ridiculous and typical . xxmaj too bad because it seemed to have possibilities .,xxbos \" xxmaj get xxmaj shorty \" , \" xxmaj out of xxmaj sight \" , \" xxmaj jackie xxmaj brown \" ( and even \" 52 xxmaj pick - xxmaj xxunk were finally getting xxmaj elmore xxmaj leonard right , making good movies out of his work . xxmaj so , despite my students ' warnings about how bad this movie would be , i could n't resist renting it . i thought , xxmaj how bad can it be ? xxmaj oy , what a mistake , especially right on the heels of reading the book , which was lame ( and too xxunk self - referential , too ) relative to the rest of xxmaj elmore xxmaj leonard 's books . xxmaj still , the book was better than the movie . xxmaj leonard again trumps the weak and unskilled screen - writers who try to take over his book . xxmaj the dialogue written for xxmaj steven xxmaj tyler was painful to watch . xxmaj and the lyrics to the character xxmaj linda xxmaj moon 's first song ? xxmaj my middle - schoolers write with more depth . xxmaj sad , sad , sad . xxmaj why even give it a star ? xxmaj because xxmaj harvey xxmaj keitel and xxmaj uma xxmaj thurman are still fun to see on screen , and xxmaj andre 3000 did n't make a complete fool of himself .,xxbos * * * xxmaj may contain spoilers * * * \n",
              " \n",
              "  i had very high expectations for this film , based on the trailer . i knew a bit about the real xxmaj ed xxmaj gein , so i figured this was a medium - budget xxmaj hollywood version of the real events . xxmaj man was i wrong . \n",
              " \n",
              "  xxmaj first , the writing apparently came from an eight - grader who barely knew anything about xxmaj ed 's history and cranked out the script in about 20 minutes . xxmaj the movie completely passes over the most interesting facets of xxmaj ed and his relationship with his mother ( not to mention what the real police found in his house ) and decides to focus primarily on the young deputy who looks like he just wandered onto the set . xxmaj likewise , all of the male characters seem to be ad - libbing their dialog throughout the entire movie . i 'm not exaggerating . \n",
              " \n",
              "  xxmaj do n't even get me started with the historical goofs in this movie . xxmaj seriously , who the hell directed this ? xxmaj this movie is supposed to take place around 1957 , but the cops are carrying modern side - handled xxunk , some of the stuff in the hardware store look like they came from xxmaj xxunk , and when the cop gets to a payphone he dials 9 - 1 - 1 ( did n't exist back then ) . xxmaj also , xxmaj ed was a small guy , scary like xxmaj anthony xxmaj perkins ' character in xxmaj psycho ( who was supposedly based on real - life xxmaj ed ) , not this burly dude who ended up looking way too much like the bad guy in xxmaj men xxmaj in xxmaj black . \n",
              " \n",
              "  xxmaj another thing that really bugged me was the appearance that the makers of this film shot the whole thing in an abandoned , 3 building set . xxmaj because of the \" clever \" camera angles , you never see any actual town , and the interior of the sets looked like old , long - abandoned shacks . xxmaj pop a cash register on a saw - horse and xxunk hardware store . \n",
              " \n",
              "  i 'm usually pretty forgiving of low - budget horror films , but this one just begs for it . xxmaj all you had to do was include most of the real events ( even embellish them ! ) , pay five good actors instead of 15 crappy ones , and for xxmaj pete 's sake take 5 minutes and think about the time period once in a while . xxmaj my advice : xxmaj google xxmaj ed xxmaj gein , you 'll be far more entertained .,xxbos xxmaj do not watch this movie , go see something else ... i was very disappointed , i can not rate this movie any better than 3 . xxmaj the acting was quite good and i really liked xxmaj william xxmaj dafoe as the villain , but i can not see why this movie made it to the big screen . xxmaj the story was old and has been shown in 100 + other movies and 1000 + xxup tv series / movies . xxmaj the main problem was basically : xxmaj nothing is happening . xxmaj take a kidnapping , let the villain make the wife of the kidnapped man deliver the money , make the police look stupid and boring and extend this to 95 minutes , you got your \" xxmaj clearing \" movie . xxmaj the only 2 reasons i did not rate this a 1 was a ) xxmaj dafoe and b ) the \" plan - b - ending \" . xxmaj there are not many endings you can give a kidnapper movie ... 75 % of these kind end with ending a , 20 % end ending b and 1 % ends with something xxunk . xxmaj boring , boring , boring .\n",
              "y: LMLabelList\n",
              ",,,,\n",
              "Path: /root/.fastai/data/imdb;\n",
              "\n",
              "Valid: LabelList (5000 items)\n",
              "x: LMTextList\n",
              "xxbos xxmaj it 's a little disconcerting to have a character named xxmaj gig xxmaj young in a movie ... played by xxmaj gig xxmaj young . xxmaj but this film is where xxmaj gig got his name and also a nice career boost after playing small parts under another name . \n",
              " \n",
              "  i 'm going to go against the majority of the other comments and state that i really enjoyed this film , mainly because of the vibrant performance of xxmaj barbara xxmaj stanwyck as xxmaj fiona . xxmaj she was funny , angry , vulnerable , caring , and feisty as the oldest of three daughters whose mother died on the xxmaj xxunk , and whose father was later killed during xxmaj xxunk xxmaj war xxup i. \n",
              " \n",
              "  xxmaj as the \" man \" of the house , xxmaj fiona has stood steadfast for years against settling her father 's will which would therefore allow a xxmaj donald xxmaj trump type named xxmaj charles xxmaj barclay to get the family home . xxmaj but xxmaj fiona 's keeping a secret as to why she hates xxmaj barclay so much . xxmaj geraldine xxmaj fitzgerald is the middle , flirty sister , who is married to an xxmaj englishman but craves her youngest sister 's boyfriend ( xxmaj gig xxmaj young ) . \n",
              " \n",
              "  xxmaj if you 're a xxmaj stanwyck fan , this is a no miss .,xxbos xxmaj this documentary about the life and comedy of xxmaj bill xxmaj hicks features bits from xxmaj hicks ' \" xxmaj revelations \" and other stand - up gigs . xxmaj it also features interviews with fellow comedians and people in the industry who knew him , as well as reporters and journalists who talk about how his political commentary was raw and brutal . \n",
              " \n",
              "  i enjoyed it very much . i had already seen \" xxmaj revelations \" but the comedy clips were still refreshing . xxmaj it 's a nice balance of comedy and documentary that will explain xxmaj hicks ' popularity to non - fans and please those who are already familiar with him . \n",
              " \n",
              "  i rated it a ten .,xxbos xxmaj this is a story of a long and awkward love . xxmaj the daily life of a woman of 50 years old and some people around her is depicted . xxmaj her daily life is so ordinary and routine that i doubted who was the real lead character in the beginning . xxmaj then the audiences know that the woman and a man who was her high - school class mate had very tiny connection . xxmaj the woman has been doing the same job - a milk - woman and a supermarket xxunk - so long . xxmaj there are so many slopes that delivering milk bottles is a very hard job . xxmaj the man had married another woman , who is now dying of cancer . xxmaj he works at the xxmaj city xxmaj hall and xxunk cares her at home . xxmaj they never look straight nor talk each other , but they never forget each other . \n",
              " \n",
              "  xxmaj the original xxmaj japanese title means \" xxmaj at some time the days you read books \" . xxmaj but of course when the man said \" xxmaj now i want to do what i 've always wanted to do \" , it was to hug her and make love with her . xxmaj she writes to a radio disk jockey that \" xxmaj if xxmaj god gives us time to talk , we need at least a whole day \" . xxmaj dreaming of that day , she has been xxunk the desire in hard work and book reading . i personally know a woman who has loved a man for long years , even after he married another woman and died for an accident . xxmaj therefore the story setting is not that special . xxmaj rather , this movie well portrays unspoken romances in many ordinary men and women . xxmaj through this movie , you will recall your romance that is lost long ago . xxmaj this is a movie with lasting effect .,xxbos xxmaj xxunk : xxmaj excellent , nice camera angles ( i do n't remember seeing a movie of late , with good close - ups , until this one ) . xxmaj could have avoided gruesome scenes with a soft camera . xxup ny is pictured good . i liked the upside down angles , in particular ( a different touch ) . \n",
              " \n",
              "  xxmaj music : xxmaj not impressive . xxmaj songs do n't stick around in your mind even after watching the movie . xxmaj may be , i expected same quality like \" xxmaj xxunk \" . a disappointment . \n",
              " \n",
              "  xxmaj actors : xxmaj kamal needs to slowly pull away from hard - core action sequences . xxmaj his age and belly really show up . xxmaj also , he should avoid close romantic sequences going forward . xxmaj it was a very awkward to see a mature / aged star still trying to play like a 20 + heroes scenes . xxmaj love can be expressed at any age ; as we get older , you still can express love nicely from a distance ( without touching a woman too much . xxmaj for example , the love expressed by xxmaj rajinikanth in \" xxunk \" ) . \n",
              " \n",
              "  xxmaj xxunk just appears for the namesake in the movie . xxmaj not sure why she accepted this . xxmaj well , that is not my problem , i guess . \n",
              " \n",
              "  xxmaj others just have a small presence . \n",
              " \n",
              "  xxmaj direction : i expected xxmaj gautham to excel ( or measure - up ) to his other movie \" xxmaj xxunk xxmaj xxunk \" . xxmaj he xxunk me . xxmaj it took a long time to release the movie due to various issues . xxmaj he slips in few scenes . xxmaj even xxunk things got slipped from a famous director . \n",
              " \n",
              "  xxmaj overall : xxmaj just a okay movie . xxmaj too much graphics . xxup definitely not for kids ( and adults who expect some kind of \" xxmaj entertainment \" ) . \n",
              " \n",
              "  xxmaj thx,xxbos xxmaj do you ever wonder what is the worst movie ever made ? xxmaj stop wondering . i 'm telling you , xxmaj michael is it ! \n",
              " \n",
              "  xxmaj it is not \" heartwarming , \" \" entertaining , \" or \" xxmaj travolta at his best . \" xxmaj it just sucks . xxmaj if i had kids , i would let them watch xxmaj deep xxmaj throat before xxmaj michael ! \n",
              " \n",
              "  a sold - out xxmaj john xxmaj travolta , a washed - up and balding xxmaj william xxmaj hurt , and an about to die any time now xxmaj jean xxmaj stapleton highlight this turd of a film . \n",
              " \n",
              "  xxmaj but wait ... you'll get to hear xxmaj andie mcdowell sing ! xxmaj yeah . xxmaj hollywood really s**t all over us with this one !\n",
              "y: LMLabelList\n",
              ",,,,\n",
              "Path: /root/.fastai/data/imdb;\n",
              "\n",
              "Test: None, model=SequentialRNN(\n",
              "  (0): AWD_LSTM(\n",
              "    (encoder): Embedding(49944, 400, padding_idx=1)\n",
              "    (encoder_dp): EmbeddingDropout(\n",
              "      (emb): Embedding(49944, 400, padding_idx=1)\n",
              "    )\n",
              "    (rnns): ModuleList(\n",
              "      (0): WeightDropout(\n",
              "        (module): LSTM(400, 1152, batch_first=True)\n",
              "      )\n",
              "      (1): WeightDropout(\n",
              "        (module): LSTM(1152, 1152, batch_first=True)\n",
              "      )\n",
              "      (2): WeightDropout(\n",
              "        (module): LSTM(1152, 400, batch_first=True)\n",
              "      )\n",
              "    )\n",
              "    (input_dp): RNNDropout()\n",
              "    (hidden_dps): ModuleList(\n",
              "      (0): RNNDropout()\n",
              "      (1): RNNDropout()\n",
              "      (2): RNNDropout()\n",
              "    )\n",
              "  )\n",
              "  (1): LinearDecoder(\n",
              "    (decoder): Linear(in_features=400, out_features=49944, bias=True)\n",
              "    (output_dp): RNNDropout()\n",
              "  )\n",
              "), opt_func=functools.partial(<class 'torch.optim.adam.Adam'>, betas=(0.9, 0.99)), loss_func=FlattenedLoss of CrossEntropyLoss(), metrics=[<function accuracy at 0x7f6fe0326f28>], true_wd=True, bn_wd=True, wd=0.01, train_bn=True, path=PosixPath('/root/.fastai/data/imdb'), model_dir='models', callback_fns=[functools.partial(<class 'fastai.basic_train.Recorder'>, add_time=True, silent=False)], callbacks=[RNNTrainer\n",
              "learn: LanguageLearner(data=TextLMDataBunch;\n",
              "\n",
              "Train: LabelList (45000 items)\n",
              "x: LMTextList\n",
              "xxbos i absolutely love the first three movies , they were great ! i once caught xxmaj part 5 on xxup vhs 10 years ago , and i was disappointed . xxmaj but perhaps that was because i never saw the fourth one , because they were shot back - to - back . but after finally viewing a copy today , i have to say it was no way better than number 5 . xxmaj my expectations were n't high to begin with , but this is cheap direct - to - video stuff , not even a horror movie , it 's xxup pg-13 . xxmaj the acting was not convincing , the story was rather dumb without any excitement and there were not many effects . xxmaj but the main problem is that there were no kills or any gore ( the annoying kid who gets killed in his car was supposed to be the highlight , but come on .. ) \n",
              " \n",
              "  xxmaj surprisingly , both xxmaj parts 4 and 5 were directed by xxmaj sequel - director xxmaj jeff xxmaj burr who gave us the excellent xxmaj stepfather xxup ii and xxmaj leatherface : xxmaj texas xxmaj chainsaw xxmaj massacre xxup iii . i liked xxmaj puppet xxmaj master : xxmaj the xxmaj legacy , even if it was nothing else than a tribute with the best scenes from all movies . \n",
              " \n",
              "  xxmaj overall , xxmaj puppet xxmaj master is very much like the xxmaj hellraiser xxmaj series : a great trilogy but forget the rest ..,xxbos xxmaj warning : xxmaj this may contain xxup spoilers ! ! \n",
              " \n",
              "  xxmaj first of all i watch a lot xxmaj lifetime movies and realize they are just that xxrep 4 . xxmaj lifetime movies . xxmaj some are great ( really ) , some are good and some are bad . xxmaj unfortunately this movie falls into the latter category . xxmaj it actually started out with some potential xxrep 4 . single , divorced hard working mom ( who gets out of work at 2:00 xxup am ) cuts a guy off while driving home from work and let 's just say he does n't take it too well . xxmaj the stalking begins immediately with phone call hang ups and escalates to her home being broken into and completely trashed . xxmaj so she goes to her mother 's for the night and the next morning her mother 's car blows up . xxmaj this seems to be just a pain in the butt for our heroine who deals with it by going underwear and jewelry shopping ! ! ! xxmaj so the police put her and her son in a local motel for safe keeping and what does xxmaj mom do ? xxmaj she goes off to work leaving the kid all alone at night in a strange motel room and tells him to order a xxup pizza ! ! ! i could n't believe it ! xxmaj then it really gets stupid ! xxmaj and the ending just made me angry because it was so ridiculous and typical . xxmaj too bad because it seemed to have possibilities .,xxbos \" xxmaj get xxmaj shorty \" , \" xxmaj out of xxmaj sight \" , \" xxmaj jackie xxmaj brown \" ( and even \" 52 xxmaj pick - xxmaj xxunk were finally getting xxmaj elmore xxmaj leonard right , making good movies out of his work . xxmaj so , despite my students ' warnings about how bad this movie would be , i could n't resist renting it . i thought , xxmaj how bad can it be ? xxmaj oy , what a mistake , especially right on the heels of reading the book , which was lame ( and too xxunk self - referential , too ) relative to the rest of xxmaj elmore xxmaj leonard 's books . xxmaj still , the book was better than the movie . xxmaj leonard again trumps the weak and unskilled screen - writers who try to take over his book . xxmaj the dialogue written for xxmaj steven xxmaj tyler was painful to watch . xxmaj and the lyrics to the character xxmaj linda xxmaj moon 's first song ? xxmaj my middle - schoolers write with more depth . xxmaj sad , sad , sad . xxmaj why even give it a star ? xxmaj because xxmaj harvey xxmaj keitel and xxmaj uma xxmaj thurman are still fun to see on screen , and xxmaj andre 3000 did n't make a complete fool of himself .,xxbos * * * xxmaj may contain spoilers * * * \n",
              " \n",
              "  i had very high expectations for this film , based on the trailer . i knew a bit about the real xxmaj ed xxmaj gein , so i figured this was a medium - budget xxmaj hollywood version of the real events . xxmaj man was i wrong . \n",
              " \n",
              "  xxmaj first , the writing apparently came from an eight - grader who barely knew anything about xxmaj ed 's history and cranked out the script in about 20 minutes . xxmaj the movie completely passes over the most interesting facets of xxmaj ed and his relationship with his mother ( not to mention what the real police found in his house ) and decides to focus primarily on the young deputy who looks like he just wandered onto the set . xxmaj likewise , all of the male characters seem to be ad - libbing their dialog throughout the entire movie . i 'm not exaggerating . \n",
              " \n",
              "  xxmaj do n't even get me started with the historical goofs in this movie . xxmaj seriously , who the hell directed this ? xxmaj this movie is supposed to take place around 1957 , but the cops are carrying modern side - handled xxunk , some of the stuff in the hardware store look like they came from xxmaj xxunk , and when the cop gets to a payphone he dials 9 - 1 - 1 ( did n't exist back then ) . xxmaj also , xxmaj ed was a small guy , scary like xxmaj anthony xxmaj perkins ' character in xxmaj psycho ( who was supposedly based on real - life xxmaj ed ) , not this burly dude who ended up looking way too much like the bad guy in xxmaj men xxmaj in xxmaj black . \n",
              " \n",
              "  xxmaj another thing that really bugged me was the appearance that the makers of this film shot the whole thing in an abandoned , 3 building set . xxmaj because of the \" clever \" camera angles , you never see any actual town , and the interior of the sets looked like old , long - abandoned shacks . xxmaj pop a cash register on a saw - horse and xxunk hardware store . \n",
              " \n",
              "  i 'm usually pretty forgiving of low - budget horror films , but this one just begs for it . xxmaj all you had to do was include most of the real events ( even embellish them ! ) , pay five good actors instead of 15 crappy ones , and for xxmaj pete 's sake take 5 minutes and think about the time period once in a while . xxmaj my advice : xxmaj google xxmaj ed xxmaj gein , you 'll be far more entertained .,xxbos xxmaj do not watch this movie , go see something else ... i was very disappointed , i can not rate this movie any better than 3 . xxmaj the acting was quite good and i really liked xxmaj william xxmaj dafoe as the villain , but i can not see why this movie made it to the big screen . xxmaj the story was old and has been shown in 100 + other movies and 1000 + xxup tv series / movies . xxmaj the main problem was basically : xxmaj nothing is happening . xxmaj take a kidnapping , let the villain make the wife of the kidnapped man deliver the money , make the police look stupid and boring and extend this to 95 minutes , you got your \" xxmaj clearing \" movie . xxmaj the only 2 reasons i did not rate this a 1 was a ) xxmaj dafoe and b ) the \" plan - b - ending \" . xxmaj there are not many endings you can give a kidnapper movie ... 75 % of these kind end with ending a , 20 % end ending b and 1 % ends with something xxunk . xxmaj boring , boring , boring .\n",
              "y: LMLabelList\n",
              ",,,,\n",
              "Path: /root/.fastai/data/imdb;\n",
              "\n",
              "Valid: LabelList (5000 items)\n",
              "x: LMTextList\n",
              "xxbos xxmaj it 's a little disconcerting to have a character named xxmaj gig xxmaj young in a movie ... played by xxmaj gig xxmaj young . xxmaj but this film is where xxmaj gig got his name and also a nice career boost after playing small parts under another name . \n",
              " \n",
              "  i 'm going to go against the majority of the other comments and state that i really enjoyed this film , mainly because of the vibrant performance of xxmaj barbara xxmaj stanwyck as xxmaj fiona . xxmaj she was funny , angry , vulnerable , caring , and feisty as the oldest of three daughters whose mother died on the xxmaj xxunk , and whose father was later killed during xxmaj xxunk xxmaj war xxup i. \n",
              " \n",
              "  xxmaj as the \" man \" of the house , xxmaj fiona has stood steadfast for years against settling her father 's will which would therefore allow a xxmaj donald xxmaj trump type named xxmaj charles xxmaj barclay to get the family home . xxmaj but xxmaj fiona 's keeping a secret as to why she hates xxmaj barclay so much . xxmaj geraldine xxmaj fitzgerald is the middle , flirty sister , who is married to an xxmaj englishman but craves her youngest sister 's boyfriend ( xxmaj gig xxmaj young ) . \n",
              " \n",
              "  xxmaj if you 're a xxmaj stanwyck fan , this is a no miss .,xxbos xxmaj this documentary about the life and comedy of xxmaj bill xxmaj hicks features bits from xxmaj hicks ' \" xxmaj revelations \" and other stand - up gigs . xxmaj it also features interviews with fellow comedians and people in the industry who knew him , as well as reporters and journalists who talk about how his political commentary was raw and brutal . \n",
              " \n",
              "  i enjoyed it very much . i had already seen \" xxmaj revelations \" but the comedy clips were still refreshing . xxmaj it 's a nice balance of comedy and documentary that will explain xxmaj hicks ' popularity to non - fans and please those who are already familiar with him . \n",
              " \n",
              "  i rated it a ten .,xxbos xxmaj this is a story of a long and awkward love . xxmaj the daily life of a woman of 50 years old and some people around her is depicted . xxmaj her daily life is so ordinary and routine that i doubted who was the real lead character in the beginning . xxmaj then the audiences know that the woman and a man who was her high - school class mate had very tiny connection . xxmaj the woman has been doing the same job - a milk - woman and a supermarket xxunk - so long . xxmaj there are so many slopes that delivering milk bottles is a very hard job . xxmaj the man had married another woman , who is now dying of cancer . xxmaj he works at the xxmaj city xxmaj hall and xxunk cares her at home . xxmaj they never look straight nor talk each other , but they never forget each other . \n",
              " \n",
              "  xxmaj the original xxmaj japanese title means \" xxmaj at some time the days you read books \" . xxmaj but of course when the man said \" xxmaj now i want to do what i 've always wanted to do \" , it was to hug her and make love with her . xxmaj she writes to a radio disk jockey that \" xxmaj if xxmaj god gives us time to talk , we need at least a whole day \" . xxmaj dreaming of that day , she has been xxunk the desire in hard work and book reading . i personally know a woman who has loved a man for long years , even after he married another woman and died for an accident . xxmaj therefore the story setting is not that special . xxmaj rather , this movie well portrays unspoken romances in many ordinary men and women . xxmaj through this movie , you will recall your romance that is lost long ago . xxmaj this is a movie with lasting effect .,xxbos xxmaj xxunk : xxmaj excellent , nice camera angles ( i do n't remember seeing a movie of late , with good close - ups , until this one ) . xxmaj could have avoided gruesome scenes with a soft camera . xxup ny is pictured good . i liked the upside down angles , in particular ( a different touch ) . \n",
              " \n",
              "  xxmaj music : xxmaj not impressive . xxmaj songs do n't stick around in your mind even after watching the movie . xxmaj may be , i expected same quality like \" xxmaj xxunk \" . a disappointment . \n",
              " \n",
              "  xxmaj actors : xxmaj kamal needs to slowly pull away from hard - core action sequences . xxmaj his age and belly really show up . xxmaj also , he should avoid close romantic sequences going forward . xxmaj it was a very awkward to see a mature / aged star still trying to play like a 20 + heroes scenes . xxmaj love can be expressed at any age ; as we get older , you still can express love nicely from a distance ( without touching a woman too much . xxmaj for example , the love expressed by xxmaj rajinikanth in \" xxunk \" ) . \n",
              " \n",
              "  xxmaj xxunk just appears for the namesake in the movie . xxmaj not sure why she accepted this . xxmaj well , that is not my problem , i guess . \n",
              " \n",
              "  xxmaj others just have a small presence . \n",
              " \n",
              "  xxmaj direction : i expected xxmaj gautham to excel ( or measure - up ) to his other movie \" xxmaj xxunk xxmaj xxunk \" . xxmaj he xxunk me . xxmaj it took a long time to release the movie due to various issues . xxmaj he slips in few scenes . xxmaj even xxunk things got slipped from a famous director . \n",
              " \n",
              "  xxmaj overall : xxmaj just a okay movie . xxmaj too much graphics . xxup definitely not for kids ( and adults who expect some kind of \" xxmaj entertainment \" ) . \n",
              " \n",
              "  xxmaj thx,xxbos xxmaj do you ever wonder what is the worst movie ever made ? xxmaj stop wondering . i 'm telling you , xxmaj michael is it ! \n",
              " \n",
              "  xxmaj it is not \" heartwarming , \" \" entertaining , \" or \" xxmaj travolta at his best . \" xxmaj it just sucks . xxmaj if i had kids , i would let them watch xxmaj deep xxmaj throat before xxmaj michael ! \n",
              " \n",
              "  a sold - out xxmaj john xxmaj travolta , a washed - up and balding xxmaj william xxmaj hurt , and an about to die any time now xxmaj jean xxmaj stapleton highlight this turd of a film . \n",
              " \n",
              "  xxmaj but wait ... you'll get to hear xxmaj andie mcdowell sing ! xxmaj yeah . xxmaj hollywood really s**t all over us with this one !\n",
              "y: LMLabelList\n",
              ",,,,\n",
              "Path: /root/.fastai/data/imdb;\n",
              "\n",
              "Test: None, model=SequentialRNN(\n",
              "  (0): AWD_LSTM(\n",
              "    (encoder): Embedding(49944, 400, padding_idx=1)\n",
              "    (encoder_dp): EmbeddingDropout(\n",
              "      (emb): Embedding(49944, 400, padding_idx=1)\n",
              "    )\n",
              "    (rnns): ModuleList(\n",
              "      (0): WeightDropout(\n",
              "        (module): LSTM(400, 1152, batch_first=True)\n",
              "      )\n",
              "      (1): WeightDropout(\n",
              "        (module): LSTM(1152, 1152, batch_first=True)\n",
              "      )\n",
              "      (2): WeightDropout(\n",
              "        (module): LSTM(1152, 400, batch_first=True)\n",
              "      )\n",
              "    )\n",
              "    (input_dp): RNNDropout()\n",
              "    (hidden_dps): ModuleList(\n",
              "      (0): RNNDropout()\n",
              "      (1): RNNDropout()\n",
              "      (2): RNNDropout()\n",
              "    )\n",
              "  )\n",
              "  (1): LinearDecoder(\n",
              "    (decoder): Linear(in_features=400, out_features=49944, bias=True)\n",
              "    (output_dp): RNNDropout()\n",
              "  )\n",
              "), opt_func=functools.partial(<class 'torch.optim.adam.Adam'>, betas=(0.9, 0.99)), loss_func=FlattenedLoss of CrossEntropyLoss(), metrics=[<function accuracy at 0x7f6fe0326f28>], true_wd=True, bn_wd=True, wd=0.01, train_bn=True, path=PosixPath('/root/.fastai/data/imdb'), model_dir='models', callback_fns=[functools.partial(<class 'fastai.basic_train.Recorder'>, add_time=True, silent=False)], callbacks=[...], layer_groups=[Sequential(\n",
              "  (0): WeightDropout(\n",
              "    (module): LSTM(400, 1152, batch_first=True)\n",
              "  )\n",
              "  (1): RNNDropout()\n",
              "), Sequential(\n",
              "  (0): WeightDropout(\n",
              "    (module): LSTM(1152, 1152, batch_first=True)\n",
              "  )\n",
              "  (1): RNNDropout()\n",
              "), Sequential(\n",
              "  (0): WeightDropout(\n",
              "    (module): LSTM(1152, 400, batch_first=True)\n",
              "  )\n",
              "  (1): RNNDropout()\n",
              "), Sequential(\n",
              "  (0): Embedding(49944, 400, padding_idx=1)\n",
              "  (1): EmbeddingDropout(\n",
              "    (emb): Embedding(49944, 400, padding_idx=1)\n",
              "  )\n",
              "  (2): LinearDecoder(\n",
              "    (decoder): Linear(in_features=400, out_features=49944, bias=True)\n",
              "    (output_dp): RNNDropout()\n",
              "  )\n",
              ")], add_time=True, silent=False)\n",
              "alpha: 2.0\n",
              "beta: 1.0], layer_groups=[Sequential(\n",
              "  (0): WeightDropout(\n",
              "    (module): LSTM(400, 1152, batch_first=True)\n",
              "  )\n",
              "  (1): RNNDropout()\n",
              "), Sequential(\n",
              "  (0): WeightDropout(\n",
              "    (module): LSTM(1152, 1152, batch_first=True)\n",
              "  )\n",
              "  (1): RNNDropout()\n",
              "), Sequential(\n",
              "  (0): WeightDropout(\n",
              "    (module): LSTM(1152, 400, batch_first=True)\n",
              "  )\n",
              "  (1): RNNDropout()\n",
              "), Sequential(\n",
              "  (0): Embedding(49944, 400, padding_idx=1)\n",
              "  (1): EmbeddingDropout(\n",
              "    (emb): Embedding(49944, 400, padding_idx=1)\n",
              "  )\n",
              "  (2): LinearDecoder(\n",
              "    (decoder): Linear(in_features=400, out_features=49944, bias=True)\n",
              "    (output_dp): RNNDropout()\n",
              "  )\n",
              ")], add_time=True, silent=False)"
            ]
          },
          "metadata": {
            "tags": []
          },
          "execution_count": 73
        }
      ]
    },
    {
      "cell_type": "code",
      "metadata": {
        "id": "R9Uxs_SH9Fw1",
        "colab_type": "code",
        "colab": {
          "base_uri": "https://localhost:8080/",
          "height": 198
        },
        "outputId": "b42593a1-bc09-4db3-8cda-1932aaabbc54"
      },
      "source": [
        "learn.unfreeze()\n",
        "learn.fit_one_cycle(5,1e-5, moms=(0.8,0.7))"
      ],
      "execution_count": 74,
      "outputs": [
        {
          "output_type": "display_data",
          "data": {
            "text/html": [
              "<table border=\"1\" class=\"dataframe\">\n",
              "  <thead>\n",
              "    <tr style=\"text-align: left;\">\n",
              "      <th>epoch</th>\n",
              "      <th>train_loss</th>\n",
              "      <th>valid_loss</th>\n",
              "      <th>accuracy</th>\n",
              "      <th>time</th>\n",
              "    </tr>\n",
              "  </thead>\n",
              "  <tbody>\n",
              "    <tr>\n",
              "      <td>0</td>\n",
              "      <td>3.902964</td>\n",
              "      <td>3.928042</td>\n",
              "      <td>0.300791</td>\n",
              "      <td>22:19</td>\n",
              "    </tr>\n",
              "    <tr>\n",
              "      <td>1</td>\n",
              "      <td>3.856772</td>\n",
              "      <td>3.896575</td>\n",
              "      <td>0.304122</td>\n",
              "      <td>22:18</td>\n",
              "    </tr>\n",
              "    <tr>\n",
              "      <td>2</td>\n",
              "      <td>3.854727</td>\n",
              "      <td>3.881266</td>\n",
              "      <td>0.305676</td>\n",
              "      <td>22:19</td>\n",
              "    </tr>\n",
              "    <tr>\n",
              "      <td>3</td>\n",
              "      <td>3.853367</td>\n",
              "      <td>3.875036</td>\n",
              "      <td>0.306408</td>\n",
              "      <td>22:19</td>\n",
              "    </tr>\n",
              "    <tr>\n",
              "      <td>4</td>\n",
              "      <td>3.857768</td>\n",
              "      <td>3.874080</td>\n",
              "      <td>0.306530</td>\n",
              "      <td>22:18</td>\n",
              "    </tr>\n",
              "  </tbody>\n",
              "</table>"
            ],
            "text/plain": [
              "<IPython.core.display.HTML object>"
            ]
          },
          "metadata": {
            "tags": []
          }
        }
      ]
    },
    {
      "cell_type": "code",
      "metadata": {
        "id": "pqPpsJEi91g1",
        "colab_type": "code",
        "colab": {}
      },
      "source": [
        ""
      ],
      "execution_count": 0,
      "outputs": []
    }
  ]
}